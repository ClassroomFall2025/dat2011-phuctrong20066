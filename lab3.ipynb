{
 "cells": [
  {
   "cell_type": "markdown",
   "id": "fdeff819",
   "metadata": {},
   "source": [
    "# Sinh Viên thực hiện Lab 3 ở Đây"
   ]
  },
  {
   "cell_type": "markdown",
   "id": "acc5d7dc",
   "metadata": {},
   "source": [
    "## Lab 3 - Bài 1"
   ]
  },
  {
   "cell_type": "code",
   "execution_count": 6,
   "id": "001e0507",
   "metadata": {},
   "outputs": [
    {
     "name": "stdout",
     "output_type": "stream",
     "text": [
      "Dãy số ban đầu: [9, 59, 21, 9, 20, 23, 19, 12, 19, 77]\n",
      "Dãy số sau khi sắp xếp tăng dần: [9, 9, 12, 19, 19, 20, 21, 23, 59, 77]\n",
      "Phần tử nhỏ nhất trong dãy: 9\n",
      "Trung bình cộng các phần tử chia hết cho 3: 12.75\n",
      "\n",
      "Dãy số sau khi sắp xếp giảm dần: [77, 59, 23, 21, 20, 19, 19, 12, 9, 9]\n",
      "Trong danh sách giảm dần, phần tử nhỏ nhất nằm ở vị trí: 9\n"
     ]
    }
   ],
   "source": [
    "# Lab 3 bài 1\n",
    "day_so = [9, 59, 21, 9, 20, 23, 19, 12, 19, 77]\n",
    "\n",
    "print(\"Dãy số ban đầu:\", day_so)\n",
    "day_so.sort()\n",
    "print(\"Dãy số sau khi sắp xếp tăng dần:\", day_so)\n",
    "\n",
    "min_value = day_so[0]\n",
    "print(\"Phần tử nhỏ nhất trong dãy:\", min_value)\n",
    "tong = 0\n",
    "dem = 0\n",
    "for n in day_so:\n",
    "    if n % 3 == 0:\n",
    "        tong += n\n",
    "        dem += 1\n",
    "\n",
    "if dem > 0:\n",
    "    tbc = tong / dem\n",
    "    print(\"Trung bình cộng các phần tử chia hết cho 3:\", tbc)\n",
    "else:\n",
    "    print(\"Không có phần tử nào chia hết cho 3.\")\n",
    "day_so.sort(reverse=True)\n",
    "print(\"\\nDãy số sau khi sắp xếp giảm dần:\", day_so)\n",
    "vi_tri = day_so.index(min_value) + 1\n",
    "print(\"Trong danh sách giảm dần, phần tử nhỏ nhất nằm ở vị trí:\", vi_tri)\n"
   ]
  },
  {
   "cell_type": "markdown",
   "id": "c0835310",
   "metadata": {},
   "source": [
    "## Lab 3 - Bài 2"
   ]
  },
  {
   "cell_type": "code",
   "execution_count": 7,
   "id": "fd039306",
   "metadata": {},
   "outputs": [
    {
     "name": "stdout",
     "output_type": "stream",
     "text": [
      "{'Họ tên': 'Phúc', 'Điểm': 10.0, 'Học lực': 'Xuất xắc'}\n"
     ]
    }
   ],
   "source": [
    "# Code lab 3  bài 2 ở đây\n",
    "sinh_vien = {\n",
    "    \"Họ tên\":\"\",\n",
    "    \"Điểm\":\"\"\n",
    "}\n",
    "\n",
    "ho_ten = input (\"Nhập tên của bạn\")\n",
    "diem = float(input(\"Nhập điểm\"))\n",
    "sinh_vien[\"Họ tên\"] = ho_ten\n",
    "sinh_vien[\"Điểm\"] = diem\n",
    "if diem >=9 and diem <=10:\n",
    "    hoc_luc = \"Xuất xắc\"\n",
    "elif diem >=8:\n",
    "    hoc_luc = \"Giỏi\"\n",
    "elif diem >=7:\n",
    "    hoc_luc = \"Khá\"\n",
    "elif diem >=5:\n",
    "    hoc_luc = \"Trung bình\"\n",
    "else:\n",
    "    hoc_luc = \"Chưa đạt\"\n",
    "sinh_vien[\"Học lực\"] = hoc_luc\n",
    "print(sinh_vien)"
   ]
  },
  {
   "cell_type": "code",
   "execution_count": 9,
   "id": "fa9cb39f",
   "metadata": {},
   "outputs": [
    {
     "name": "stdout",
     "output_type": "stream",
     "text": [
      "Danh sách sinh vien:  [{'Họ tên': 'Tuấn', 'Điểm': 4.0, 'Học lực': 'Chưa đạt'}, {'Họ tên': 'Tuấn', 'Điểm': 4.0, 'Học lực': 'Chưa đạt'}, {'Họ tên': 'Tuấn', 'Điểm': 4.0, 'Học lực': 'Chưa đạt'}]\n"
     ]
    }
   ],
   "source": [
    "# Lab 3 bài 2\n",
    "ds_sinh_vien = []\n",
    "sinh_vien = {}\n",
    "while True:\n",
    "    ho_ten = input (\"Nhập tên của bạn:\")\n",
    "    if ho_ten.lower () == \"q\":\n",
    "        break\n",
    "    else:\n",
    "        diem = float(input(\"Nhập điểm:\"))\n",
    "        if diem >=9 and diem <=10:\n",
    "            hoc_luc = \"Xuất xắc\"\n",
    "        elif diem >=8:\n",
    "            hoc_luc = \"Giỏi\"\n",
    "        elif diem >=7:\n",
    "            hoc_luc = \"Khá\"\n",
    "        elif diem >=5:\n",
    "            hoc_luc = \"Trung bình\"\n",
    "        else:\n",
    "            hoc_luc = \"Chưa đạt\"\n",
    "    sinh_vien[\"Họ tên\"] = ho_ten\n",
    "    sinh_vien[\"Điểm\"] = diem\n",
    "    sinh_vien[\"Học lực\"] = hoc_luc\n",
    "    ds_sinh_vien.append(sinh_vien)\n",
    "print(\"Danh sách sinh vien: \", ds_sinh_vien)"
   ]
  },
  {
   "cell_type": "markdown",
   "id": "0f2483fe",
   "metadata": {},
   "source": [
    "## Lab 3 - Bài 3"
   ]
  },
  {
   "cell_type": "code",
   "execution_count": 11,
   "id": "7034990b",
   "metadata": {},
   "outputs": [
    {
     "name": "stdout",
     "output_type": "stream",
     "text": [
      "21 không phải là số nguyên tố.\n"
     ]
    }
   ],
   "source": [
    "# Lab 3  bài 3 \n",
    "n = int(input(\"Nhập một số nguyên: \"))\n",
    "ok = True\n",
    "if n < 2:\n",
    "    ok = False\n",
    "else:\n",
    "    i = 2\n",
    "    while i < n:\n",
    "        if n % i == 0:\n",
    "            ok = False\n",
    "            break\n",
    "        i += 1\n",
    "if ok:\n",
    "    print(n, \"là số nguyên tố.\")\n",
    "else:\n",
    "    print(n, \"không phải là số nguyên tố.\")\n"
   ]
  },
  {
   "cell_type": "markdown",
   "id": "d36ea3d3",
   "metadata": {},
   "source": [
    "## Lab 3 - Bài 4"
   ]
  },
  {
   "cell_type": "code",
   "execution_count": 12,
   "id": "4c707ec1",
   "metadata": {},
   "outputs": [
    {
     "name": "stdout",
     "output_type": "stream",
     "text": [
      "1 x 1 = 1\t2 x 1 = 2\t3 x 1 = 3\t4 x 1 = 4\t5 x 1 = 5\t6 x 1 = 6\t7 x 1 = 7\t8 x 1 = 8\t9 x 1 = 9\t\n",
      "1 x 2 = 2\t2 x 2 = 4\t3 x 2 = 6\t4 x 2 = 8\t5 x 2 = 10\t6 x 2 = 12\t7 x 2 = 14\t8 x 2 = 16\t9 x 2 = 18\t\n",
      "1 x 3 = 3\t2 x 3 = 6\t3 x 3 = 9\t4 x 3 = 12\t5 x 3 = 15\t6 x 3 = 18\t7 x 3 = 21\t8 x 3 = 24\t9 x 3 = 27\t\n",
      "1 x 4 = 4\t2 x 4 = 8\t3 x 4 = 12\t4 x 4 = 16\t5 x 4 = 20\t6 x 4 = 24\t7 x 4 = 28\t8 x 4 = 32\t9 x 4 = 36\t\n",
      "1 x 5 = 5\t2 x 5 = 10\t3 x 5 = 15\t4 x 5 = 20\t5 x 5 = 25\t6 x 5 = 30\t7 x 5 = 35\t8 x 5 = 40\t9 x 5 = 45\t\n",
      "1 x 6 = 6\t2 x 6 = 12\t3 x 6 = 18\t4 x 6 = 24\t5 x 6 = 30\t6 x 6 = 36\t7 x 6 = 42\t8 x 6 = 48\t9 x 6 = 54\t\n",
      "1 x 7 = 7\t2 x 7 = 14\t3 x 7 = 21\t4 x 7 = 28\t5 x 7 = 35\t6 x 7 = 42\t7 x 7 = 49\t8 x 7 = 56\t9 x 7 = 63\t\n",
      "1 x 8 = 8\t2 x 8 = 16\t3 x 8 = 24\t4 x 8 = 32\t5 x 8 = 40\t6 x 8 = 48\t7 x 8 = 56\t8 x 8 = 64\t9 x 8 = 72\t\n",
      "1 x 9 = 9\t2 x 9 = 18\t3 x 9 = 27\t4 x 9 = 36\t5 x 9 = 45\t6 x 9 = 54\t7 x 9 = 63\t8 x 9 = 72\t9 x 9 = 81\t\n"
     ]
    }
   ],
   "source": [
    "# Lab 3 bài 4\n",
    "for j in range(1, 10):\n",
    "    for i in range(1, 10):\n",
    "        print(f\"{i} x {j} = {i*j}\", end=\"\\t\")\n",
    "    print()"
   ]
  },
  {
   "cell_type": "markdown",
   "id": "e2b41d4a",
   "metadata": {},
   "source": [
    "## Lab 3 - Bài 5: bài tập làm thêm"
   ]
  },
  {
   "cell_type": "code",
   "execution_count": 1,
   "id": "0e0172f7",
   "metadata": {},
   "outputs": [
    {
     "name": "stdout",
     "output_type": "stream",
     "text": [
      "🕒 Thời gian hiện tại: 18:50:59 - 02/10/2025\n"
     ]
    }
   ],
   "source": [
    "# Lab 3 bài 5\n",
    "# Hiển thị thời gian hiện tại\n",
    "import datetime\n",
    "now = datetime.datetime.now()\n",
    "print(\"🕒 Thời gian hiện tại:\", now.strftime(\"%H:%M:%S - %d/%m/%Y\"))\n"
   ]
  },
  {
   "cell_type": "code",
   "execution_count": null,
   "id": "9715f34b",
   "metadata": {},
   "outputs": [],
   "source": []
  }
 ],
 "metadata": {
  "kernelspec": {
   "display_name": "Python 3",
   "language": "python",
   "name": "python3"
  },
  "language_info": {
   "codemirror_mode": {
    "name": "ipython",
    "version": 3
   },
   "file_extension": ".py",
   "mimetype": "text/x-python",
   "name": "python",
   "nbconvert_exporter": "python",
   "pygments_lexer": "ipython3",
   "version": "3.13.5"
  }
 },
 "nbformat": 4,
 "nbformat_minor": 5
}
