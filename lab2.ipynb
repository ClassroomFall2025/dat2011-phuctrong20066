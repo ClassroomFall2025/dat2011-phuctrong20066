{
 "cells": [
  {
   "cell_type": "markdown",
   "id": "fdeff819",
   "metadata": {},
   "source": [
    "# Sinh Viên thực hiện Lab 2 ở Đây"
   ]
  },
  {
   "cell_type": "markdown",
   "id": "acc5d7dc",
   "metadata": {},
   "source": [
    "## Lab 2 - Bài 1"
   ]
  },
  {
   "cell_type": "code",
   "execution_count": 3,
   "id": "001e0507",
   "metadata": {},
   "outputs": [
    {
     "name": "stdout",
     "output_type": "stream",
     "text": [
      "Từ tìm kiếm con người\n"
     ]
    }
   ],
   "source": [
    "#Lab 2 bài 1\n",
    "BaiTho = '''Kiếp con người mỏng manh như là gió\n",
    "Sống trên đời có được mấy lần vui\n",
    "Sao phải đau mà không thể mỉm cười\n",
    "Gắng buông nỗi ngậm ngùi nơi quá khứ\n",
    "Nếu có thể sao ta không làm thử\n",
    "Để tâm hồn khắc hai chữ bình an\n",
    "Cho đôi chân bước thanh thản nhẹ nhàng\n",
    "Dù hướng đời có muôn ngàn đá sỏi'''\n",
    "\n",
    "Tu_tim_kiem = input(\"Nhập từ bạn muốn tìm kiếm trong bài thơ\")\n",
    "index1 = BaiTho.find(Tu_tim_kiem)\n",
    "index2 = index1 + len (Tu_Tim_Kiem)\n",
    "Tu_Tim_Kiem = BaiTho[index1:index2]\n",
    "print(\"Từ tìm kiếm\", Tu_Tim_Kiem)"
   ]
  },
  {
   "cell_type": "markdown",
   "id": "c0835310",
   "metadata": {},
   "source": [
    "## Lab 2 - Bài 2"
   ]
  },
  {
   "cell_type": "code",
   "execution_count": 10,
   "id": "fa9cb39f",
   "metadata": {},
   "outputs": [
    {
     "name": "stdout",
     "output_type": "stream",
     "text": [
      "Bài thơ sau khi thay thế 'bình an' thành 'hạnh phúc':\n",
      " Kiếp con người mỏng manh như là gió\n",
      "Sống trên đời có được mấy lần vui\n",
      "Sao phải đau mà không thể mỉm cười\n",
      "Gắng buông nỗi ngậm ngùi nơi quá khứ\n",
      "\n",
      "Nếu có thể sao ta không làm thử\n",
      "Để tâm hồn khắc hai chữ hạnh phúc\n",
      "Cho đôi chân bước thanh thản nhẹ nhàng\n",
      "Dù hướng đời có muôn ngàn đá sỏi\n",
      "...\n",
      "Kiếp con người mỏng manh như là gió\n",
      "Sống trên đời có được mấy lần vui\n",
      "Sao phải đau mà không thể mỉm cười\n",
      "Gắng buông nỗi ngậm ngùi nơi quá khứ\n",
      "\n",
      "Nếu có thể sao ta không làm thử\n",
      "Để tâm hồn khắc hai chữ bình an\n",
      "Cho đôi chân bước thanh thản nhẹ nhàng\n",
      "Dù hướng đời có muôn ngàn đá sỏi...\n"
     ]
    }
   ],
   "source": [
    "# Lab 2 bài 2\n",
    "BaiTho = '''Kiếp con người mỏng manh như là gió\n",
    "Sống trên đời có được mấy lần vui\n",
    "Sao phải đau mà không thể mỉm cười\n",
    "Gắng buông nỗi ngậm ngùi nơi quá khứ\n",
    "\n",
    "Nếu có thể sao ta không làm thử\n",
    "Để tâm hồn khắc hai chữ bình an\n",
    "Cho đôi chân bước thanh thản nhẹ nhàng\n",
    "Dù hướng đời có muôn ngàn đá sỏi'''\n",
    "\n",
    "BaiThoSauThayThe = BaiTho.replace(\"bình an\", \"hạnh phúc\")\n",
    "print(\"Bài thơ sau khi thay thế 'bình an' thành 'hạnh phúc':\\n\", BaiThoSauThayThe)\n",
    "\n",
    "DongDauBaiTho = \"...\"\n",
    "DongCuoiBaiTho = \"...\"\n",
    "\n",
    "BaiThoMoi = DongDauBaiTho + '\\n' + BaiTho + DongCuoiBaiTho\n",
    "print(BaiThoMoi)\n"
   ]
  },
  {
   "cell_type": "markdown",
   "id": "0f2483fe",
   "metadata": {},
   "source": [
    "## Lab 2 - Bài 3"
   ]
  },
  {
   "cell_type": "code",
   "execution_count": 1,
   "id": "7034990b",
   "metadata": {},
   "outputs": [
    {
     "name": "stdout",
     "output_type": "stream",
     "text": [
      "Phương trình có nghiệm duy nhất x = -1.5\n"
     ]
    }
   ],
   "source": [
    "# Lab 2 bài 3\n",
    "b = float(input(\"Nhập b: \"))\n",
    "c = float(input(\"Nhập c: \"))\n",
    "\n",
    "if b == 0:\n",
    "    if c == 0:\n",
    "        print(\"Phương trình có vô số nghiệm\")\n",
    "    else:\n",
    "        print(\"Phương trình vô nghiệm\")\n",
    "else:\n",
    "    nghiem = -c / b\n",
    "    print(\"Phương trình có nghiệm duy nhất x =\", nghiem)\n"
   ]
  },
  {
   "cell_type": "markdown",
   "id": "d36ea3d3",
   "metadata": {},
   "source": [
    "## Lab 2 - Bài 4"
   ]
  },
  {
   "cell_type": "code",
   "execution_count": 2,
   "id": "4c707ec1",
   "metadata": {},
   "outputs": [
    {
     "name": "stdout",
     "output_type": "stream",
     "text": [
      "Phương trình vô nghiệm\n"
     ]
    }
   ],
   "source": [
    "# Lab 2 bài 4\n",
    "import math\n",
    "a = float(input(\"Nhập a: \"))\n",
    "b = float(input(\"Nhập b: \"))\n",
    "c = float(input(\"Nhập c: \"))\n",
    "\n",
    "if a == 0:\n",
    "    if b == 0:\n",
    "        if c == 0:\n",
    "            print(\"Phương trình có vô số nghiệm\")\n",
    "        else:\n",
    "            print(\"Phương trình vô nghiệm (c ≠ 0)\")\n",
    "    else:\n",
    "        nghiem = -c / b\n",
    "        print(\"Phương trình có nghiệm duy nhất x =\", nghiem)\n",
    "else:\n",
    "    delta = b*b - 4*a*c\n",
    "    if delta < 0:\n",
    "        print(\"Phương trình vô nghiệm\")\n",
    "    elif delta == 0:\n",
    "        x = -b / (2*a)\n",
    "        print(\"Phương trình có nghiệm kép x =\", x)\n",
    "    else:\n",
    "        x1 = (-b + math.sqrt(delta)) / (2*a)\n",
    "        x2 = (-b - math.sqrt(delta)) / (2*a)\n",
    "        print(\"Phương trình có 2 nghiệm phân biệt:\")\n",
    "        print(\"x1 =\", x1)\n",
    "        print(\"x2 =\", x2)\n"
   ]
  },
  {
   "cell_type": "markdown",
   "id": "e2b41d4a",
   "metadata": {},
   "source": [
    "## Lab 2 - Bài 5: bài tập làm thêm"
   ]
  },
  {
   "cell_type": "code",
   "execution_count": null,
   "id": "0e0172f7",
   "metadata": {},
   "outputs": [],
   "source": [
    "# code lab 2  bài làm thêm ở đây "
   ]
  }
 ],
 "metadata": {
  "kernelspec": {
   "display_name": "Python 3",
   "language": "python",
   "name": "python3"
  },
  "language_info": {
   "codemirror_mode": {
    "name": "ipython",
    "version": 3
   },
   "file_extension": ".py",
   "mimetype": "text/x-python",
   "name": "python",
   "nbconvert_exporter": "python",
   "pygments_lexer": "ipython3",
   "version": "3.13.5"
  }
 },
 "nbformat": 4,
 "nbformat_minor": 5
}
