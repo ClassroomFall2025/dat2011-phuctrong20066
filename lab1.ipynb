{
 "cells": [
  {
   "cell_type": "markdown",
   "id": "fdeff819",
   "metadata": {},
   "source": [
    "# Sinh Viên thực hiện Lab 1 ở Đây"
   ]
  },
  {
   "cell_type": "markdown",
   "id": "acc5d7dc",
   "metadata": {},
   "source": [
    "## Lab 1 - Bài 1"
   ]
  },
  {
   "cell_type": "code",
   "execution_count": null,
   "id": "001e0507",
   "metadata": {},
   "outputs": [
    {
     "name": "stdout",
     "output_type": "stream",
     "text": [
      "Tên: Nguyễn Trọng Phúc\n",
      "Quê: Bến Tre\n",
      "Trường: Cao Đẳng FPT Polytechnic\n"
     ]
    }
   ],
   "source": [
    "#Lab 1 bài 1\n",
    "print(\"Tên: Nguyễn Trọng Phúc\")\n",
    "print(\"Quê: Bến Tre\")\n",
    "print(\"Trường: Cao Đẳng FPT Polytechnic\")"
   ]
  },
  {
   "cell_type": "markdown",
   "id": "c0835310",
   "metadata": {},
   "source": [
    "## Lab 1 - Bài 2"
   ]
  },
  {
   "cell_type": "code",
   "execution_count": null,
   "id": "fa9cb39f",
   "metadata": {},
   "outputs": [
    {
     "name": "stdout",
     "output_type": "stream",
     "text": [
      "Chu vi hình chữ nhật là: 22.0\n",
      "Diện tích hình chữ nhật là: 30.0\n"
     ]
    }
   ],
   "source": [
    "#Lab 1 bài 2\n",
    "Chieudai = float(input(\"Nhập chiều dài hình chữ nhật: 5 \"))\n",
    "Chieurong = float(input(\"Nhập chiều rộng hình chữ nhật: 6 \"))\n",
    "Chuvi = (Chieudai + Chieurong) *2\n",
    "Dientich = Chieudai * Chieurong\n",
    "print(\"Chu vi hình chữ nhật là:\", Chuvi)\n",
    "print(\"Diện tích hình chữ nhật là:\", Dientich)"
   ]
  },
  {
   "cell_type": "markdown",
   "id": "0f2483fe",
   "metadata": {},
   "source": [
    "## Lab 1 - Bài 3"
   ]
  },
  {
   "cell_type": "code",
   "execution_count": null,
   "id": "7034990b",
   "metadata": {},
   "outputs": [
    {
     "name": "stdout",
     "output_type": "stream",
     "text": [
      "...\n",
      "Sống không giận, không hờn không oán trách\n",
      "Sống mỉm cười, với thử thách chông gai\n",
      "Sống vươn lên, theo kịp ánh ban mai\n",
      "Sống chan hòa, với những người chung sống. \n",
      "\n",
      "Sống là động, nhưng lòng luôn bất động\n",
      "Sống là thương, nhưng lòng chẳn vấn vương\n",
      "Sống yên vui, danh lợi mãi coi thường\n",
      "Tâm bất biến, giữa dòng đời vạn biển. \n",
      "...\n"
     ]
    }
   ],
   "source": [
    "#Lab 1 bài 3\n",
    "print(\"...\" \\\n",
    "\"\")\n",
    "print(\"Sống không giận, không hờn không oán trách\")\n",
    "print(\"Sống mỉm cười, với thử thách chông gai\")\n",
    "print(\"Sống vươn lên, theo kịp ánh ban mai\")\n",
    "print(\"Sống chan hòa, với những người chung sống. \")\n",
    "print()\n",
    "print(\"Sống là động, nhưng lòng luôn bất động\")\n",
    "print(\"Sống là thương, nhưng lòng chẳn vấn vương\")\n",
    "print(\"Sống yên vui, danh lợi mãi coi thường\")\n",
    "print(\"Tâm bất biến, giữa dòng đời vạn biển. \")\n",
    "print(\"...\" \\\n",
    "\"\")\n"
   ]
  },
  {
   "cell_type": "markdown",
   "id": "d36ea3d3",
   "metadata": {},
   "source": [
    "## Lab 1 - Bài 4"
   ]
  },
  {
   "cell_type": "code",
   "execution_count": null,
   "id": "4c707ec1",
   "metadata": {},
   "outputs": [
    {
     "name": "stdout",
     "output_type": "stream",
     "text": [
      "Nghiệm x1 = -0.5, x2 = -1.0\n"
     ]
    }
   ],
   "source": [
    "#Lab 1 bài 4\n",
    "import math\n",
    "a = float(input(\"Nhập hệ số a: \"))\n",
    "b = float(input(\"Nhập hệ số b: \"))\n",
    "c = float(input(\"Nhập hệ số c: \"))\n",
    "delta=b**2-4*a*c\n",
    "if delta >= 0:\n",
    "\tx1 = (-b + math.sqrt(delta)) / (2*a)\n",
    "\tx2 = (-b - math.sqrt(delta)) / (2*a)\n",
    "\tprint(f\"Nghiệm x1 = {x1}, x2 = {x2}\")\n",
    "else:\n",
    "\tprint(\"Phương trình vô nghiệm\")\n"
   ]
  },
  {
   "cell_type": "markdown",
   "id": "e2b41d4a",
   "metadata": {},
   "source": [
    "## Lab 1 - Bài 5: bài tập làm thêm"
   ]
  },
  {
   "cell_type": "code",
   "execution_count": null,
   "id": "c88eb636",
   "metadata": {},
   "outputs": [],
   "source": [
    "#1 Phép tính cơ bản\n",
    "a = float(input(\"Nhập số thứ nhất: \"))\n",
    "b = float(input(\"Nhập số thứ hai: \"))\n",
    "print(\"a + b =\", a + b)\n",
    "print(\"a - b =\", a - b)\n",
    "print(\"a * b =\", a * b)\n",
    "if b != 0:\n",
    "    print(\"a / b =\", a / b)\n",
    "else:\n",
    "    print(\"Không thể chia cho 0\")\n"
   ]
  },
  {
   "cell_type": "code",
   "execution_count": 16,
   "id": "94cb701e",
   "metadata": {},
   "outputs": [
    {
     "name": "stdout",
     "output_type": "stream",
     "text": [
      "a^b = 8.0\n"
     ]
    }
   ],
   "source": [
    "#2 Lũy thừa\n",
    "a = float(input(\"Nhập cơ số a: \"))\n",
    "b = float(input(\"Nhập số mũ b: \"))\n",
    "print(\"a^b =\", a ** b)"
   ]
  },
  {
   "cell_type": "code",
   "execution_count": 18,
   "id": "6e17ba77",
   "metadata": {},
   "outputs": [
    {
     "name": "stdout",
     "output_type": "stream",
     "text": [
      "Căn bậc 2 của 9.0 là: 3.0\n"
     ]
    }
   ],
   "source": [
    "#3 Căn bậc 2\n",
    "import math\n",
    "x = float(input(\"Nhập số cần tính căn bậc 2: \"))\n",
    "if x >= 0:\n",
    "    print(\"Căn bậc 2 của\", x, \"là:\", math.sqrt(x))\n",
    "else:\n",
    "    print(\"Không thể tính căn bậc 2 của số âm\")\n"
   ]
  },
  {
   "cell_type": "code",
   "execution_count": null,
   "id": "9fc984ab",
   "metadata": {},
   "outputs": [
    {
     "name": "stdout",
     "output_type": "stream",
     "text": [
      "sin( 60.0 ) = 0.8660254037844386\n",
      "cos( 60.0 ) = 0.5000000000000001\n",
      "tan( 60.0 ) = 1.7320508075688767\n"
     ]
    }
   ],
   "source": [
    "#4 Hàm lượng giác: Sin, Cos, Tan\n",
    "import math\n",
    "goc = float(input(\"Nhập góc (độ): \"))\n",
    "rad = math.radians(goc)\n",
    "print(\"sin(\", goc, \") =\", math.sin(rad))\n",
    "print(\"cos(\", goc, \") =\", math.cos(rad))\n",
    "print(\"tan(\", goc, \") =\", math.tan(rad))\n"
   ]
  },
  {
   "cell_type": "code",
   "execution_count": null,
   "id": "0e0172f7",
   "metadata": {},
   "outputs": [
    {
     "name": "stdout",
     "output_type": "stream",
     "text": [
      "log10(x) = 0.3010299956639812\n",
      "ln(x) = 0.6931471805599453\n",
      "log cơ số 3.0 của 2.0 = 0.6309297535714574\n"
     ]
    }
   ],
   "source": [
    "#5 Viết chương trình tính logarit\n",
    "import math\n",
    "x = float(input(\"Nhập số x: \"))\n",
    "print(\"log10(x) =\", math.log10(x))\n",
    "print(\"ln(x) =\", math.log(x))\n",
    "base = float(input(\"Nhập cơ số: \"))\n",
    "print(f\"log cơ số {base} của {x} =\", math.log(x, base))\n"
   ]
  }
 ],
 "metadata": {
  "kernelspec": {
   "display_name": "Python 3",
   "language": "python",
   "name": "python3"
  },
  "language_info": {
   "codemirror_mode": {
    "name": "ipython",
    "version": 3
   },
   "file_extension": ".py",
   "mimetype": "text/x-python",
   "name": "python",
   "nbconvert_exporter": "python",
   "pygments_lexer": "ipython3",
   "version": "3.13.5"
  }
 },
 "nbformat": 4,
 "nbformat_minor": 5
}
